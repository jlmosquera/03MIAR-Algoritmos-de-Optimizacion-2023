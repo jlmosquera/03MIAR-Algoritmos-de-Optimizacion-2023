{
  "nbformat": 4,
  "nbformat_minor": 0,
  "metadata": {
    "colab": {
      "provenance": [],
      "authorship_tag": "ABX9TyPubFANCvktGoQL16a7K0Pg",
      "include_colab_link": true
    },
    "kernelspec": {
      "name": "python3",
      "display_name": "Python 3"
    },
    "language_info": {
      "name": "python"
    }
  },
  "cells": [
    {
      "cell_type": "markdown",
      "metadata": {
        "id": "view-in-github",
        "colab_type": "text"
      },
      "source": [
        "<a href=\"https://colab.research.google.com/github/jlmosquera/03MIAR-Algoritmos-de-Optimizacion-2023/blob/main/Algoritmos_Jose_Luis_Mosquera_AG1.ipynb\" target=\"_parent\"><img src=\"https://colab.research.google.com/assets/colab-badge.svg\" alt=\"Open In Colab\"/></a>"
      ]
    },
    {
      "cell_type": "markdown",
      "source": [
        "# AG1 - Actividad Guiada\n",
        "\n",
        "Jose Luis Mosquera\n",
        "\n",
        "**GitHub:** https://github.com/jlmosquera/03MIAR-Algoritmos-de-Optimizacion-2023"
      ],
      "metadata": {
        "id": "bV999B7s3nNk"
      }
    },
    {
      "cell_type": "markdown",
      "source": [
        "## 1. Divide y vencerás (I)\n",
        "### Torres de Hanoi"
      ],
      "metadata": {
        "id": "tt3LEsPx5cFJ"
      }
    },
    {
      "cell_type": "code",
      "source": [
        "def torres_hanoi(N, origen, destino, pivote):\n",
        "  '''\n",
        "  Resuelve recursivamente el problema de las Torres de Hanoi\n",
        "  Argumentos:\n",
        "  ----------\n",
        "  N : int\n",
        "    Numero de discos a mover desde la pila de origen a la de destino\n",
        "  origen: int\n",
        "    Numero indicando la pila de origen\n",
        "  origen: int\n",
        "    Numero indicando la pila de destino\n",
        "  '''\n",
        "  if N==1:\n",
        "    print(f\"Mover bloque desde {origen} a {destino}\")\n",
        "    return\n",
        "\n",
        "  torres_hanoi(N-1, origen, pivote, destino)\n",
        "  print(f\"Mover bloque desde {origen} a {destino}\")\n",
        "  torres_hanoi(N-1, pivote, destino, origen)\n",
        "\n",
        "torres_hanoi(4, 1, 3, 2)"
      ],
      "metadata": {
        "colab": {
          "base_uri": "https://localhost:8080/"
        },
        "id": "ea6qWNer5IUG",
        "outputId": "ef98c4fa-c34a-481a-9859-1aa77e4e0703"
      },
      "execution_count": 2,
      "outputs": [
        {
          "output_type": "stream",
          "name": "stdout",
          "text": [
            "Mover bloque desde 1 a 2\n",
            "Mover bloque desde 1 a 3\n",
            "Mover bloque desde 2 a 3\n",
            "Mover bloque desde 1 a 2\n",
            "Mover bloque desde 3 a 1\n",
            "Mover bloque desde 3 a 2\n",
            "Mover bloque desde 1 a 2\n",
            "Mover bloque desde 1 a 3\n",
            "Mover bloque desde 2 a 3\n",
            "Mover bloque desde 2 a 1\n",
            "Mover bloque desde 3 a 1\n",
            "Mover bloque desde 2 a 3\n",
            "Mover bloque desde 1 a 2\n",
            "Mover bloque desde 1 a 3\n",
            "Mover bloque desde 2 a 3\n"
          ]
        }
      ]
    },
    {
      "cell_type": "markdown",
      "source": [
        "## 2. Técnica Voraz. Algoritmos voraces (II) - (Greeady Algorithms)\n",
        "### Devolución cambio de monedas"
      ],
      "metadata": {
        "id": "MQYZRti6CgaK"
      }
    },
    {
      "cell_type": "code",
      "source": [
        "def cambio_monedas(CANTIDAD, SISTEMA):\n",
        "  '''\n",
        "  Dado un sistema monetario calcula el número de monedas a devolver.\n",
        "  Arguments:\n",
        "  ----------\n",
        "  CANTIDAD : int\n",
        "    Número indicando la cantidad a devolver\n",
        "  SISTEMA : list\n",
        "    Lista con el sistema monetario\n",
        "    '''\n",
        "  print(\"SISTEMA: \")\n",
        "  print(SISTEMA)\n",
        "\n",
        "  SOLUCION = [0 for i in range(len(SISTEMA))] # crea una lista de ceros (tantos como la dimensión de SISTEMA)\n",
        "  VALOR_ACUMULADO = 0\n",
        "\n",
        "  for i in range(len(SISTEMA)):\n",
        "    monedas = int((CANTIDAD - VALOR_ACUMULADO) / SISTEMA[i])\n",
        "    SOLUCION[i] = monedas\n",
        "    VALOR_ACUMULADO += monedas * SISTEMA[i]\n",
        "    if VALOR_ACUMULADO==CANTIDAD: break\n",
        "\n",
        "  return SOLUCION\n",
        "\n",
        "SISTEMA = [25, 10, 5, 1]\n",
        "cambio_monedas(54, SISTEMA)"
      ],
      "metadata": {
        "colab": {
          "base_uri": "https://localhost:8080/"
        },
        "id": "VYbIgT7WDBHl",
        "outputId": "b61db33a-1c08-4d45-c372-c7ced9fae0be"
      },
      "execution_count": 5,
      "outputs": [
        {
          "output_type": "stream",
          "name": "stdout",
          "text": [
            "SISTEMA: \n",
            "[25, 10, 5, 1]\n"
          ]
        },
        {
          "output_type": "execute_result",
          "data": {
            "text/plain": [
              "[2, 0, 0, 4]"
            ]
          },
          "metadata": {},
          "execution_count": 5
        }
      ]
    }
  ]
}